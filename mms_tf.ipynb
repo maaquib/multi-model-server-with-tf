{
 "cells": [
  {
   "cell_type": "markdown",
   "metadata": {},
   "source": [
    "Starter code obtained from https://github.com/awslabs/amazon-sagemaker-examples/blob/master/advanced_functionality/multi_model_bring_your_own/multi_model_endpoint_bring_your_own.ipynb"
   ]
  },
  {
   "cell_type": "code",
   "execution_count": null,
   "metadata": {},
   "outputs": [],
   "source": [
    "!pip install -qU awscli boto3 sagemaker"
   ]
  },
  {
   "cell_type": "code",
   "execution_count": null,
   "metadata": {},
   "outputs": [],
   "source": [
    "%%sh\n",
    "\n",
    "# The name of our algorithm\n",
    "algorithm_name=mms-with-tf\n",
    "\n",
    "cd container\n",
    "\n",
    "account=$(aws sts get-caller-identity --query Account --output text)\n",
    "\n",
    "# Get the region defined in the current configuration (default to us-west-2 if none defined)\n",
    "region=$(aws configure get region)\n",
    "region=${region:-us-east-1}\n",
    "\n",
    "fullname=\"${account}.dkr.ecr.${region}.amazonaws.com/${algorithm_name}:latest\"\n",
    "\n",
    "# If the repository doesn't exist in ECR, create it.\n",
    "aws ecr describe-repositories --repository-names \"${algorithm_name}\" > /dev/null 2>&1\n",
    "\n",
    "if [ $? -ne 0 ]\n",
    "then\n",
    "    aws ecr create-repository --repository-name \"${algorithm_name}\" > /dev/null\n",
    "fi\n",
    "\n",
    "# Get the login command from ECR and execute it directly\n",
    "$(aws ecr get-login --region ${region} --no-include-email)\n",
    "\n",
    "# Build the docker image locally with the image name and then push it to ECR\n",
    "# with the full name.\n",
    "\n",
    "docker build -q -t ${algorithm_name} .\n",
    "docker tag ${algorithm_name} ${fullname}\n",
    "\n",
    "docker push ${fullname}"
   ]
  },
  {
   "cell_type": "code",
   "execution_count": null,
   "metadata": {},
   "outputs": [],
   "source": [
    "import boto3\n",
    "account_id = boto3.client('sts').get_caller_identity()['Account']\n",
    "region = boto3.Session().region_name"
   ]
  },
  {
   "cell_type": "code",
   "execution_count": null,
   "metadata": {},
   "outputs": [],
   "source": [
    "import time\n",
    "from sagemaker.model import Model\n",
    "from sagemaker.predictor import Predictor\n",
    "\n",
    "model_data = 's3://<bucket>/<model_name>.tar.gz' # TAR file containing the saved_model.pb file\n",
    "sm_model_name = 'model'\n",
    "\n",
    "tf_model = Model(model_data = model_data, \n",
    "                 image_uri = '{}.dkr.ecr.{}.amazonaws.com/{}:latest'.format(account_id, region, 'mms-with-tf'),\n",
    "                 role  = 'arn:aws:iam::{}:role/service-role/{}'.format(account_id, role_name),\n",
    "                 predictor_cls=Predictor,\n",
    "                 name  = sm_model_name)"
   ]
  },
  {
   "cell_type": "code",
   "execution_count": null,
   "metadata": {},
   "outputs": [],
   "source": [
    "endpoint_name = 'mms-tf-endpoint-' + time.strftime(\"%Y-%m-%d-%H-%M-%S\", time.gmtime())\n",
    "\n",
    "predictor = tf_model.deploy(initial_instance_count=1, instance_type='local')"
   ]
  },
  {
   "cell_type": "code",
   "execution_count": null,
   "metadata": {},
   "outputs": [],
   "source": [
    "import json\n",
    "payload=[0.8241127, 0.77719664, 0.47123995, 0.27323001, 0.24874457, 0.77869387, 0.50711921, 0.10696663, 0.60663805, 0.76063525, 0.96358908, 0.71026102, 0.57714464, 0.58250422, 0.91595038, 0.24119576, 0.58981158, 0.67119473, 0.94832165, 0.91711728, 0.0323646, 0.07007003, 0.89158581, 0.01916486, 0.5647568, 0.99879008, 0.58311515, 0.87001143, 0.50620349, 0.65268692, 0.83657373, 0.31589474, 0.70910797, 0.62886395, 0.03498501, 0.36503007, 0.94178899, 0.21739391, 0.29688258, 0.34630696, 0.30494259, 0.04302086, 0.3578226, 0.04361075, 0.91962488, 0.24961093, 0.0124245, 0.31004002, 0.61543447, 0.34500444, 0.30441186, 0.44085924, 0.67489625, 0.03938287, 0.89307169, 0.22283647, 0.44441515, 0.82044036, 0.37541783, 0.25868981, 0.46510721, 0.51640271, 0.40917042, 0.65912921, 0.72228879, 0.42611241, 0.71283259, 0.37417586, 0.786403, 0.6912011, 0.4338622, 0.29868897, 0.0342538, 0.16938266, 0.90234809, 0.3051922, 0.92377579, 0.97883088, 0.2028601, 0.50478822, 0.84762944, 0.11011502, 0.70006246, 0.34329564, 0.49022718, 0.8569296, 0.75698334, 0.84864789, 0.9477985, 0.46994381, 0.05319027, 0.07369953, 0.08497094, 0.54536333, 0.87922514, 0.97857665, 0.06930542, 0.27101086, 0.03069235, 0.13432096, 0.96021588, 0.9484153, 0.75365465, 0.76216408, 0.43294879, 0.41034781, 0.01088872, 0.29060839, 0.94462721, 0.83999491, 0.4364634, 0.63611379, 0.32102346, 0.10418961, 0.2776194, 0.73166493, 0.76387601, 0.83429646, 0.94348065, 0.85956626, 0.81160069, 0.1650624, 0.79505978, 0.67288331, 0.3204887, 0.89388283, 0.85290859, 0.11308228, 0.81252801, 0.87276483, 0.76737167, 0.16166891, 0.78767838, 0.79160494, 0.80843258, 0.39723985, 0.47062281, 0.96028728, 0.55309858, 0.05378428, 0.3619188, 0.69888766, 0.76134346, 0.60911425, 0.85562674, 0.58098788, 0.5438003, 0.61229528, 0.14350196, 0.75286178, 0.88131248, 0.69132185, 0.12576858, 0.23459534, 0.26883056, 0.98129534, 0.74060036, 0.9607236, 0.99617814, 0.75829678, 0.06310486, 0.55572225, 0.72709395, 0.77374732, 0.81625695, 0.13475297, 0.89352917, 0.19805313, 0.34789188, 0.08422005, 0.67733949, 0.94300965, 0.22116594, 0.10948816, 0.50651639, 0.40402931, 0.46181863, 0.14743327, 0.33300708, 0.87358395, 0.79312213, 0.54662338, 0.83890467, 0.87690315, 0.24570711, 0.01534696, 0.11803501, 0.21333099, 0.75169896, 0.42758898, 0.80780874, 0.57331851, 0.96341639, 0.52078203, 0.22610806, 0.83348684, 0.76036637, 0.99407179, 0.96098997, 0.2451298, 0.41848766, 0.01584927, 0.28213452, 0.04494721, 0.16963578, 0.68096619, 0.39404686, 0.7621266, 0.02721071, 0.5481559, 0.59972178, 0.61725009, 0.76405802, 0.83030081, 0.87232659, 0.16119207, 0.51143718, 0.13040968, 0.57453206, 0.63200166, 0.27077547, 0.72281371, 0.44055048, 0.51538986, 0.29096202, 0.99726975, 0.50958807, 0.87792484, 0.03956957, 0.42187308, 0.87694541, 0.88974026, 0.65590356, 0.35029236, 0.18853136, 0.50500502, 0.95545852, 0.94636341, 0.84731837, 0.13936297, 0.32537976, 0.41430316, 0.18574781, 0.97574309, 0.26483325, 0.79840404, 0.74069621, 0.98526361, 0.63957011, 0.30924823, 0.20429374, 0.09850504, 0.77676228, 0.40561045, 0.71999222, 0.42545573, 0.78092917, 0.74532941, 0.52263514, 0.01771433, 0.15041333, 0.41157879, 0.15047035, 0.66149007, 0.95970903, 0.97348663, 0.30155038, 0.06596597, 0.3317747, 0.09346482, 0.71672818, 0.13279156, 0.19758743, 0.20143709, 0.84517665, 0.767672, 0.21471986, 0.75663108, 0.35878468, 0.58943601, 0.98005496, 0.30451585, 0.34754926, 0.3298018, 0.36859658, 0.52568727, 0.45107675, 0.27778918, 0.4825746, 0.6521011, 0.16924284, 0.54550222, 0.33862934, 0.88247624, 0.97012639, 0.64496125, 0.09514454, 0.90497989, 0.82705286, 0.5232794, 0.80558394, 0.86949601, 0.78825486, 0.23086437, 0.64405503, 0.02989425, 0.61423185, 0.45341492, 0.52462891, 0.93029992, 0.74040612, 0.45227326, 0.35339424, 0.30661544, 0.70083487, 0.68725394, 0.2036894, 0.85478822, 0.13176267, 0.10494695, 0.17226407, 0.88662847, 0.42744141, 0.44540842, 0.94161152, 0.46699513, 0.36795051, 0.0234292, 0.68830582, 0.33571055, 0.93930267, 0.76513689, 0.69002036, 0.11983312, 0.05524331, 0.28743821, 0.53563344, 0.00152629, 0.50295284, 0.24351331, 0.6770774, 0.42484211, 0.10956752, 0.01239354, 0.57630947, 0.16575461, 0.7870273, 0.64387019, 0.65514058, 0.62808722, 0.29263556, 0.8159863, 0.18642033]\n",
    "\n",
    "inputs = []\n",
    "batch_size = 10\n",
    "for i in range(batch_size):\n",
    "    inputs.append(payload)\n",
    "\n",
    "response = predictor.predict(json.dumps(inputs))\n",
    "print(json.loads(response))"
   ]
  },
  {
   "cell_type": "code",
   "execution_count": null,
   "metadata": {},
   "outputs": [],
   "source": []
  }
 ],
 "metadata": {
  "kernelspec": {
   "display_name": "Python 3",
   "language": "python",
   "name": "python3"
  },
  "language_info": {
   "codemirror_mode": {
    "name": "ipython",
    "version": 3
   },
   "file_extension": ".py",
   "mimetype": "text/x-python",
   "name": "python",
   "nbconvert_exporter": "python",
   "pygments_lexer": "ipython3",
   "version": "3.6.9"
  }
 },
 "nbformat": 4,
 "nbformat_minor": 2
}
